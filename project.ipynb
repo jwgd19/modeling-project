{
 "cells": [
  {
   "cell_type": "code",
   "execution_count": 89,
   "id": "d78a07c2",
   "metadata": {},
   "outputs": [],
   "source": [
    "import numpy as np\n",
    "from scipy.linalg import eig \n",
    "from matplotlib import pylab as plt\n",
    "#import matplotlib.cm as cm\n",
    "import pandas as pd\n",
    "import datetime\n"
   ]
  },
  {
   "cell_type": "code",
   "execution_count": 90,
   "id": "39569204",
   "metadata": {},
   "outputs": [
    {
     "name": "stderr",
     "output_type": "stream",
     "text": [
      "C:\\Users\\jwgd1\\AppData\\Local\\Temp\\ipykernel_8584\\3516038589.py:1: DtypeWarning: Columns (5,7) have mixed types. Specify dtype option on import or set low_memory=False.\n",
      "  df_original = pd.read_csv('202207-citbike-tripdata.csv')\n"
     ]
    }
   ],
   "source": [
    "df_original = pd.read_csv('202207-citbike-tripdata.csv')"
   ]
  },
  {
   "cell_type": "code",
   "execution_count": 91,
   "id": "ec927cf8",
   "metadata": {},
   "outputs": [],
   "source": [
    "df = df_original.copy()"
   ]
  },
  {
   "cell_type": "code",
   "execution_count": 92,
   "id": "50f1c8a2",
   "metadata": {
    "scrolled": true
   },
   "outputs": [
    {
     "data": {
      "text/html": [
       "<div>\n",
       "<style scoped>\n",
       "    .dataframe tbody tr th:only-of-type {\n",
       "        vertical-align: middle;\n",
       "    }\n",
       "\n",
       "    .dataframe tbody tr th {\n",
       "        vertical-align: top;\n",
       "    }\n",
       "\n",
       "    .dataframe thead th {\n",
       "        text-align: right;\n",
       "    }\n",
       "</style>\n",
       "<table border=\"1\" class=\"dataframe\">\n",
       "  <thead>\n",
       "    <tr style=\"text-align: right;\">\n",
       "      <th></th>\n",
       "      <th>ride_id</th>\n",
       "      <th>rideable_type</th>\n",
       "      <th>started_at</th>\n",
       "      <th>ended_at</th>\n",
       "      <th>start_station_name</th>\n",
       "      <th>start_station_id</th>\n",
       "      <th>end_station_name</th>\n",
       "      <th>end_station_id</th>\n",
       "      <th>start_lat</th>\n",
       "      <th>start_lng</th>\n",
       "      <th>end_lat</th>\n",
       "      <th>end_lng</th>\n",
       "      <th>member_casual</th>\n",
       "    </tr>\n",
       "  </thead>\n",
       "  <tbody>\n",
       "    <tr>\n",
       "      <th>0</th>\n",
       "      <td>C09E4093905089BD</td>\n",
       "      <td>classic_bike</td>\n",
       "      <td>2022-07-23 11:34:57</td>\n",
       "      <td>2022-07-23 11:45:08</td>\n",
       "      <td>Melrose St &amp; Broadway</td>\n",
       "      <td>4801.04</td>\n",
       "      <td>Myrtle Ave &amp; Grove St</td>\n",
       "      <td>4816.05</td>\n",
       "      <td>40.697481</td>\n",
       "      <td>-73.935877</td>\n",
       "      <td>40.699050</td>\n",
       "      <td>-73.915160</td>\n",
       "      <td>member</td>\n",
       "    </tr>\n",
       "    <tr>\n",
       "      <th>1</th>\n",
       "      <td>374630DB5822C392</td>\n",
       "      <td>electric_bike</td>\n",
       "      <td>2022-07-29 18:19:08</td>\n",
       "      <td>2022-07-29 18:26:50</td>\n",
       "      <td>E 68 St &amp; 3 Ave</td>\n",
       "      <td>6896.16</td>\n",
       "      <td>E 85 St &amp; York Ave</td>\n",
       "      <td>7146.04</td>\n",
       "      <td>40.767128</td>\n",
       "      <td>-73.962246</td>\n",
       "      <td>40.775369</td>\n",
       "      <td>-73.948034</td>\n",
       "      <td>member</td>\n",
       "    </tr>\n",
       "    <tr>\n",
       "      <th>2</th>\n",
       "      <td>4F73CA25880A1215</td>\n",
       "      <td>electric_bike</td>\n",
       "      <td>2022-07-16 16:30:58</td>\n",
       "      <td>2022-07-16 17:39:18</td>\n",
       "      <td>W 37 St &amp; 10 Ave</td>\n",
       "      <td>6611.02</td>\n",
       "      <td>Knickerbocker Ave &amp; Cooper St</td>\n",
       "      <td>4582.05</td>\n",
       "      <td>40.756604</td>\n",
       "      <td>-73.997901</td>\n",
       "      <td>40.690810</td>\n",
       "      <td>-73.904480</td>\n",
       "      <td>member</td>\n",
       "    </tr>\n",
       "    <tr>\n",
       "      <th>3</th>\n",
       "      <td>ECD6EE19C0CC1D31</td>\n",
       "      <td>electric_bike</td>\n",
       "      <td>2022-07-17 17:35:57</td>\n",
       "      <td>2022-07-17 18:03:36</td>\n",
       "      <td>W 37 St &amp; 10 Ave</td>\n",
       "      <td>6611.02</td>\n",
       "      <td>6 Ave &amp; Broome St</td>\n",
       "      <td>5610.09</td>\n",
       "      <td>40.756604</td>\n",
       "      <td>-73.997901</td>\n",
       "      <td>40.724310</td>\n",
       "      <td>-74.004730</td>\n",
       "      <td>member</td>\n",
       "    </tr>\n",
       "    <tr>\n",
       "      <th>4</th>\n",
       "      <td>44D0987673B9997D</td>\n",
       "      <td>classic_bike</td>\n",
       "      <td>2022-07-11 07:56:29</td>\n",
       "      <td>2022-07-11 07:59:15</td>\n",
       "      <td>E 68 St &amp; 3 Ave</td>\n",
       "      <td>6896.16</td>\n",
       "      <td>E 66 St &amp; Madison Ave</td>\n",
       "      <td>6969.08</td>\n",
       "      <td>40.767128</td>\n",
       "      <td>-73.962246</td>\n",
       "      <td>40.768009</td>\n",
       "      <td>-73.968453</td>\n",
       "      <td>member</td>\n",
       "    </tr>\n",
       "  </tbody>\n",
       "</table>\n",
       "</div>"
      ],
      "text/plain": [
       "            ride_id  rideable_type           started_at             ended_at  \\\n",
       "0  C09E4093905089BD   classic_bike  2022-07-23 11:34:57  2022-07-23 11:45:08   \n",
       "1  374630DB5822C392  electric_bike  2022-07-29 18:19:08  2022-07-29 18:26:50   \n",
       "2  4F73CA25880A1215  electric_bike  2022-07-16 16:30:58  2022-07-16 17:39:18   \n",
       "3  ECD6EE19C0CC1D31  electric_bike  2022-07-17 17:35:57  2022-07-17 18:03:36   \n",
       "4  44D0987673B9997D   classic_bike  2022-07-11 07:56:29  2022-07-11 07:59:15   \n",
       "\n",
       "      start_station_name start_station_id               end_station_name  \\\n",
       "0  Melrose St & Broadway          4801.04          Myrtle Ave & Grove St   \n",
       "1        E 68 St & 3 Ave          6896.16             E 85 St & York Ave   \n",
       "2       W 37 St & 10 Ave          6611.02  Knickerbocker Ave & Cooper St   \n",
       "3       W 37 St & 10 Ave          6611.02              6 Ave & Broome St   \n",
       "4        E 68 St & 3 Ave          6896.16          E 66 St & Madison Ave   \n",
       "\n",
       "  end_station_id  start_lat  start_lng    end_lat    end_lng member_casual  \n",
       "0        4816.05  40.697481 -73.935877  40.699050 -73.915160        member  \n",
       "1        7146.04  40.767128 -73.962246  40.775369 -73.948034        member  \n",
       "2        4582.05  40.756604 -73.997901  40.690810 -73.904480        member  \n",
       "3        5610.09  40.756604 -73.997901  40.724310 -74.004730        member  \n",
       "4        6969.08  40.767128 -73.962246  40.768009 -73.968453        member  "
      ]
     },
     "execution_count": 92,
     "metadata": {},
     "output_type": "execute_result"
    }
   ],
   "source": [
    "df.head()"
   ]
  },
  {
   "cell_type": "markdown",
   "id": "bff95c1e",
   "metadata": {},
   "source": [
    "### Warm-up\n",
    "\n",
    "#### 1. Using the start time and end time, compute the duration of each ride in minutes and plot the histogram of ride durations.\n"
   ]
  },
  {
   "cell_type": "code",
   "execution_count": 93,
   "id": "82cfd140",
   "metadata": {},
   "outputs": [],
   "source": [
    "df = df_original.copy()\n",
    "df['ended_at'] = pd.to_datetime(df['ended_at'])\n",
    "df['started_at'] = pd.to_datetime(df['started_at'])\n",
    "df['duration'] = (df['ended_at'] - df['started_at']).apply(lambda x: x.value) / 10**9\n",
    "df = df[(df['duration'] > 0) & (df['duration'] < 3600*3)]\n",
    "#print(df['duration'])"
   ]
  },
  {
   "cell_type": "code",
   "execution_count": 94,
   "id": "2504019e",
   "metadata": {},
   "outputs": [
    {
     "data": {
      "text/plain": [
       "(array([2.537686e+06, 6.939260e+05, 1.642440e+05, 4.775000e+04,\n",
       "        1.867000e+04, 9.248000e+03, 5.408000e+03, 3.299000e+03,\n",
       "        2.189000e+03, 1.416000e+03]),\n",
       " array([1.0000e+00, 1.0808e+03, 2.1606e+03, 3.2404e+03, 4.3202e+03,\n",
       "        5.4000e+03, 6.4798e+03, 7.5596e+03, 8.6394e+03, 9.7192e+03,\n",
       "        1.0799e+04]),\n",
       " <BarContainer object of 10 artists>)"
      ]
     },
     "execution_count": 94,
     "metadata": {},
     "output_type": "execute_result"
    },
    {
     "data": {
      "image/png": "[encoded data removed]",
      "text/plain": [
       "<Figure size 640x480 with 1 Axes>"
      ]
     },
     "metadata": {},
     "output_type": "display_data"
    }
   ],
   "source": [
    "# durations = []\n",
    "# format_data = \"%Y-%m-%d %H:%M:%S\"\n",
    "# for index, row in df.iterrows():\n",
    "#     duration = (datetime.strptime(df.iloc[index,3], format_data) - datetime.strptime(df.iloc[index,2], format_data)).total_seconds()\n",
    "#     if duration > 3600 * 3 or duration < 0:\n",
    "#         df.drop(index, inplace=True)\n",
    "#     else:\n",
    "#         durations.append(duration)\n",
    "#     if index % 10000 == 0:\n",
    "#         print('Working on', index)\n",
    "plt.hist(df['duration'])"
   ]
  },
  {
   "cell_type": "code",
   "execution_count": 95,
   "id": "335ef785",
   "metadata": {},
   "outputs": [
    {
     "name": "stdout",
     "output_type": "stream",
     "text": [
      "0.18614266381307384\n",
      "0.5839303954997338\n"
     ]
    }
   ],
   "source": [
    "df_member = df[df['member_casual'] == 'member']\n",
    "p = len(df_member[df_member['duration'] > 20*60]) / len(df_member)\n",
    "print(p)\n",
    "\n",
    "df_more25 = df[df['duration'] > 25*60]\n",
    "p2 = len(df_more25[df_more25['member_casual'] == 'member']) / len(df_more25)\n",
    "print(p2)"
   ]
  },
  {
   "cell_type": "code",
   "execution_count": 96,
   "id": "023e46ce",
   "metadata": {},
   "outputs": [],
   "source": [
    "df['weekday'] = df['started_at'].dt.dayofweek\n",
    "df = df[df['weekday'] < 5]"
   ]
  },
  {
   "cell_type": "code",
   "execution_count": 97,
   "id": "e1e929b0",
   "metadata": {},
   "outputs": [],
   "source": [
    "# df['morning'] = (df['started_at'].apply(lambda a:a.time()) < datetime.time(12, 0, 0)) & (df['started_at'].apply(lambda a:a.time()) > datetime.time(7, 0, 0))\n",
    "# df['evening'] = (df['started_at'].apply(lambda a:a.time()) < datetime.time(22, 0, 0)) & (df['started_at'].apply(lambda a:a.time()) > datetime.time(17, 0, 0))\n"
   ]
  },
  {
   "cell_type": "code",
   "execution_count": 98,
   "id": "b2ad0fab",
   "metadata": {},
   "outputs": [
    {
     "data": {
      "text/html": [
       "<div>\n",
       "<style scoped>\n",
       "    .dataframe tbody tr th:only-of-type {\n",
       "        vertical-align: middle;\n",
       "    }\n",
       "\n",
       "    .dataframe tbody tr th {\n",
       "        vertical-align: top;\n",
       "    }\n",
       "\n",
       "    .dataframe thead th {\n",
       "        text-align: right;\n",
       "    }\n",
       "</style>\n",
       "<table border=\"1\" class=\"dataframe\">\n",
       "  <thead>\n",
       "    <tr style=\"text-align: right;\">\n",
       "      <th></th>\n",
       "      <th>ride_id</th>\n",
       "      <th>rideable_type</th>\n",
       "      <th>started_at</th>\n",
       "      <th>ended_at</th>\n",
       "      <th>start_station_name</th>\n",
       "      <th>start_station_id</th>\n",
       "      <th>end_station_name</th>\n",
       "      <th>end_station_id</th>\n",
       "      <th>start_lat</th>\n",
       "      <th>start_lng</th>\n",
       "      <th>end_lat</th>\n",
       "      <th>end_lng</th>\n",
       "      <th>member_casual</th>\n",
       "      <th>duration</th>\n",
       "      <th>weekday</th>\n",
       "    </tr>\n",
       "  </thead>\n",
       "  <tbody>\n",
       "    <tr>\n",
       "      <th>1</th>\n",
       "      <td>374630DB5822C392</td>\n",
       "      <td>electric_bike</td>\n",
       "      <td>2022-07-29 18:19:08</td>\n",
       "      <td>2022-07-29 18:26:50</td>\n",
       "      <td>E 68 St &amp; 3 Ave</td>\n",
       "      <td>6896.16</td>\n",
       "      <td>E 85 St &amp; York Ave</td>\n",
       "      <td>7146.04</td>\n",
       "      <td>40.767128</td>\n",
       "      <td>-73.962246</td>\n",
       "      <td>40.775369</td>\n",
       "      <td>-73.948034</td>\n",
       "      <td>member</td>\n",
       "      <td>462.0</td>\n",
       "      <td>4</td>\n",
       "    </tr>\n",
       "    <tr>\n",
       "      <th>4</th>\n",
       "      <td>44D0987673B9997D</td>\n",
       "      <td>classic_bike</td>\n",
       "      <td>2022-07-11 07:56:29</td>\n",
       "      <td>2022-07-11 07:59:15</td>\n",
       "      <td>E 68 St &amp; 3 Ave</td>\n",
       "      <td>6896.16</td>\n",
       "      <td>E 66 St &amp; Madison Ave</td>\n",
       "      <td>6969.08</td>\n",
       "      <td>40.767128</td>\n",
       "      <td>-73.962246</td>\n",
       "      <td>40.768009</td>\n",
       "      <td>-73.968453</td>\n",
       "      <td>member</td>\n",
       "      <td>166.0</td>\n",
       "      <td>0</td>\n",
       "    </tr>\n",
       "    <tr>\n",
       "      <th>5</th>\n",
       "      <td>A80F03B56110AFF8</td>\n",
       "      <td>classic_bike</td>\n",
       "      <td>2022-07-14 19:35:53</td>\n",
       "      <td>2022-07-14 19:50:06</td>\n",
       "      <td>Clinton Ave &amp; Flushing Ave</td>\n",
       "      <td>4762.04</td>\n",
       "      <td>Bergen St &amp; 4 Ave</td>\n",
       "      <td>4322.06</td>\n",
       "      <td>40.697940</td>\n",
       "      <td>-73.969868</td>\n",
       "      <td>40.682564</td>\n",
       "      <td>-73.979898</td>\n",
       "      <td>member</td>\n",
       "      <td>853.0</td>\n",
       "      <td>3</td>\n",
       "    </tr>\n",
       "    <tr>\n",
       "      <th>6</th>\n",
       "      <td>D967C4FDF71ADE61</td>\n",
       "      <td>classic_bike</td>\n",
       "      <td>2022-07-26 20:18:17</td>\n",
       "      <td>2022-07-26 20:26:57</td>\n",
       "      <td>E 68 St &amp; 3 Ave</td>\n",
       "      <td>6896.16</td>\n",
       "      <td>E 85 St &amp; York Ave</td>\n",
       "      <td>7146.04</td>\n",
       "      <td>40.767128</td>\n",
       "      <td>-73.962246</td>\n",
       "      <td>40.775369</td>\n",
       "      <td>-73.948034</td>\n",
       "      <td>member</td>\n",
       "      <td>520.0</td>\n",
       "      <td>1</td>\n",
       "    </tr>\n",
       "    <tr>\n",
       "      <th>7</th>\n",
       "      <td>62DA916392DE2A17</td>\n",
       "      <td>electric_bike</td>\n",
       "      <td>2022-07-13 06:46:50</td>\n",
       "      <td>2022-07-13 06:50:26</td>\n",
       "      <td>E 89 St &amp; York Ave</td>\n",
       "      <td>7204.08</td>\n",
       "      <td>E 85 St &amp; York Ave</td>\n",
       "      <td>7146.04</td>\n",
       "      <td>40.777945</td>\n",
       "      <td>-73.946041</td>\n",
       "      <td>40.775369</td>\n",
       "      <td>-73.948034</td>\n",
       "      <td>member</td>\n",
       "      <td>216.0</td>\n",
       "      <td>2</td>\n",
       "    </tr>\n",
       "  </tbody>\n",
       "</table>\n",
       "</div>"
      ],
      "text/plain": [
       "            ride_id  rideable_type          started_at            ended_at  \\\n",
       "1  374630DB5822C392  electric_bike 2022-07-29 18:19:08 2022-07-29 18:26:50   \n",
       "4  44D0987673B9997D   classic_bike 2022-07-11 07:56:29 2022-07-11 07:59:15   \n",
       "5  A80F03B56110AFF8   classic_bike 2022-07-14 19:35:53 2022-07-14 19:50:06   \n",
       "6  D967C4FDF71ADE61   classic_bike 2022-07-26 20:18:17 2022-07-26 20:26:57   \n",
       "7  62DA916392DE2A17  electric_bike 2022-07-13 06:46:50 2022-07-13 06:50:26   \n",
       "\n",
       "           start_station_name start_station_id       end_station_name  \\\n",
       "1             E 68 St & 3 Ave          6896.16     E 85 St & York Ave   \n",
       "4             E 68 St & 3 Ave          6896.16  E 66 St & Madison Ave   \n",
       "5  Clinton Ave & Flushing Ave          4762.04      Bergen St & 4 Ave   \n",
       "6             E 68 St & 3 Ave          6896.16     E 85 St & York Ave   \n",
       "7          E 89 St & York Ave          7204.08     E 85 St & York Ave   \n",
       "\n",
       "  end_station_id  start_lat  start_lng    end_lat    end_lng member_casual  \\\n",
       "1        7146.04  40.767128 -73.962246  40.775369 -73.948034        member   \n",
       "4        6969.08  40.767128 -73.962246  40.768009 -73.968453        member   \n",
       "5        4322.06  40.697940 -73.969868  40.682564 -73.979898        member   \n",
       "6        7146.04  40.767128 -73.962246  40.775369 -73.948034        member   \n",
       "7        7146.04  40.777945 -73.946041  40.775369 -73.948034        member   \n",
       "\n",
       "   duration  weekday  \n",
       "1     462.0        4  \n",
       "4     166.0        0  \n",
       "5     853.0        3  \n",
       "6     520.0        1  \n",
       "7     216.0        2  "
      ]
     },
     "execution_count": 98,
     "metadata": {},
     "output_type": "execute_result"
    }
   ],
   "source": [
    "df.head()"
   ]
  },
  {
   "cell_type": "code",
   "execution_count": 99,
   "id": "27453d41",
   "metadata": {},
   "outputs": [
    {
     "data": {
      "text/html": [
       "<div>\n",
       "<style scoped>\n",
       "    .dataframe tbody tr th:only-of-type {\n",
       "        vertical-align: middle;\n",
       "    }\n",
       "\n",
       "    .dataframe tbody tr th {\n",
       "        vertical-align: top;\n",
       "    }\n",
       "\n",
       "    .dataframe thead th {\n",
       "        text-align: right;\n",
       "    }\n",
       "</style>\n",
       "<table border=\"1\" class=\"dataframe\">\n",
       "  <thead>\n",
       "    <tr style=\"text-align: right;\">\n",
       "      <th></th>\n",
       "      <th>start_station_name</th>\n",
       "      <th>count</th>\n",
       "    </tr>\n",
       "  </thead>\n",
       "  <tbody>\n",
       "    <tr>\n",
       "      <th>1546</th>\n",
       "      <td>West St &amp; Chambers St</td>\n",
       "      <td>10556</td>\n",
       "    </tr>\n",
       "    <tr>\n",
       "      <th>1423</th>\n",
       "      <td>W 21 St &amp; 6 Ave</td>\n",
       "      <td>9580</td>\n",
       "    </tr>\n",
       "    <tr>\n",
       "      <th>8</th>\n",
       "      <td>1 Ave &amp; E 68 St</td>\n",
       "      <td>8923</td>\n",
       "    </tr>\n",
       "    <tr>\n",
       "      <th>272</th>\n",
       "      <td>6 Ave &amp; W 33 St</td>\n",
       "      <td>8839</td>\n",
       "    </tr>\n",
       "    <tr>\n",
       "      <th>444</th>\n",
       "      <td>Broadway &amp; W 25 St</td>\n",
       "      <td>8345</td>\n",
       "    </tr>\n",
       "    <tr>\n",
       "      <th>453</th>\n",
       "      <td>Broadway &amp; W 58 St</td>\n",
       "      <td>8305</td>\n",
       "    </tr>\n",
       "    <tr>\n",
       "      <th>722</th>\n",
       "      <td>E 33 St &amp; 1 Ave</td>\n",
       "      <td>8244</td>\n",
       "    </tr>\n",
       "    <tr>\n",
       "      <th>1547</th>\n",
       "      <td>West St &amp; Liberty St</td>\n",
       "      <td>7877</td>\n",
       "    </tr>\n",
       "    <tr>\n",
       "      <th>421</th>\n",
       "      <td>Broadway &amp; E 14 St</td>\n",
       "      <td>7805</td>\n",
       "    </tr>\n",
       "    <tr>\n",
       "      <th>1009</th>\n",
       "      <td>Lafayette St &amp; E 8 St</td>\n",
       "      <td>7586</td>\n",
       "    </tr>\n",
       "    <tr>\n",
       "      <th>423</th>\n",
       "      <td>Broadway &amp; E 21 St</td>\n",
       "      <td>7580</td>\n",
       "    </tr>\n",
       "    <tr>\n",
       "      <th>24</th>\n",
       "      <td>11 Ave &amp; W 41 St</td>\n",
       "      <td>7555</td>\n",
       "    </tr>\n",
       "    <tr>\n",
       "      <th>1438</th>\n",
       "      <td>W 31 St &amp; 7 Ave</td>\n",
       "      <td>7503</td>\n",
       "    </tr>\n",
       "    <tr>\n",
       "      <th>273</th>\n",
       "      <td>6 Ave &amp; W 34 St</td>\n",
       "      <td>7200</td>\n",
       "    </tr>\n",
       "    <tr>\n",
       "      <th>445</th>\n",
       "      <td>Broadway &amp; W 29 St</td>\n",
       "      <td>7084</td>\n",
       "    </tr>\n",
       "    <tr>\n",
       "      <th>29</th>\n",
       "      <td>12 Ave &amp; W 40 St</td>\n",
       "      <td>7075</td>\n",
       "    </tr>\n",
       "    <tr>\n",
       "      <th>677</th>\n",
       "      <td>E 16 St &amp; 5 Ave</td>\n",
       "      <td>7074</td>\n",
       "    </tr>\n",
       "    <tr>\n",
       "      <th>538</th>\n",
       "      <td>Cleveland Pl &amp; Spring St</td>\n",
       "      <td>6937</td>\n",
       "    </tr>\n",
       "    <tr>\n",
       "      <th>299</th>\n",
       "      <td>8 Ave &amp; W 38 St</td>\n",
       "      <td>6928</td>\n",
       "    </tr>\n",
       "    <tr>\n",
       "      <th>294</th>\n",
       "      <td>8 Ave &amp; W 16 St</td>\n",
       "      <td>6906</td>\n",
       "    </tr>\n",
       "    <tr>\n",
       "      <th>730</th>\n",
       "      <td>E 40 St &amp; Park Ave</td>\n",
       "      <td>6898</td>\n",
       "    </tr>\n",
       "    <tr>\n",
       "      <th>1179</th>\n",
       "      <td>Pier 40 - Hudson River Park</td>\n",
       "      <td>6496</td>\n",
       "    </tr>\n",
       "    <tr>\n",
       "      <th>1427</th>\n",
       "      <td>W 22 St &amp; 10 Ave</td>\n",
       "      <td>6474</td>\n",
       "    </tr>\n",
       "    <tr>\n",
       "      <th>13</th>\n",
       "      <td>10 Ave &amp; W 14 St</td>\n",
       "      <td>6444</td>\n",
       "    </tr>\n",
       "    <tr>\n",
       "      <th>515</th>\n",
       "      <td>Central Park S &amp; 6 Ave</td>\n",
       "      <td>6425</td>\n",
       "    </tr>\n",
       "    <tr>\n",
       "      <th>882</th>\n",
       "      <td>Grand Army Plaza &amp; Central Park S</td>\n",
       "      <td>6391</td>\n",
       "    </tr>\n",
       "    <tr>\n",
       "      <th>1474</th>\n",
       "      <td>W 54 St &amp; 11 Ave</td>\n",
       "      <td>6349</td>\n",
       "    </tr>\n",
       "    <tr>\n",
       "      <th>917</th>\n",
       "      <td>Greenwich Ave &amp; 8 Ave</td>\n",
       "      <td>6284</td>\n",
       "    </tr>\n",
       "    <tr>\n",
       "      <th>298</th>\n",
       "      <td>8 Ave &amp; W 33 St</td>\n",
       "      <td>6231</td>\n",
       "    </tr>\n",
       "    <tr>\n",
       "      <th>307</th>\n",
       "      <td>9 Ave &amp; W 22 St</td>\n",
       "      <td>6184</td>\n",
       "    </tr>\n",
       "    <tr>\n",
       "      <th>288</th>\n",
       "      <td>7 Ave &amp; Central Park South</td>\n",
       "      <td>6167</td>\n",
       "    </tr>\n",
       "    <tr>\n",
       "      <th>297</th>\n",
       "      <td>8 Ave &amp; W 31 St</td>\n",
       "      <td>6135</td>\n",
       "    </tr>\n",
       "    <tr>\n",
       "      <th>903</th>\n",
       "      <td>Grand St &amp; Elizabeth St</td>\n",
       "      <td>6114</td>\n",
       "    </tr>\n",
       "    <tr>\n",
       "      <th>486</th>\n",
       "      <td>Carmine St &amp; 6 Ave</td>\n",
       "      <td>6048</td>\n",
       "    </tr>\n",
       "  </tbody>\n",
       "</table>\n",
       "</div>"
      ],
      "text/plain": [
       "                     start_station_name  count\n",
       "1546              West St & Chambers St  10556\n",
       "1423                    W 21 St & 6 Ave   9580\n",
       "8                       1 Ave & E 68 St   8923\n",
       "272                     6 Ave & W 33 St   8839\n",
       "444                  Broadway & W 25 St   8345\n",
       "453                  Broadway & W 58 St   8305\n",
       "722                     E 33 St & 1 Ave   8244\n",
       "1547               West St & Liberty St   7877\n",
       "421                  Broadway & E 14 St   7805\n",
       "1009              Lafayette St & E 8 St   7586\n",
       "423                  Broadway & E 21 St   7580\n",
       "24                     11 Ave & W 41 St   7555\n",
       "1438                    W 31 St & 7 Ave   7503\n",
       "273                     6 Ave & W 34 St   7200\n",
       "445                  Broadway & W 29 St   7084\n",
       "29                     12 Ave & W 40 St   7075\n",
       "677                     E 16 St & 5 Ave   7074\n",
       "538            Cleveland Pl & Spring St   6937\n",
       "299                     8 Ave & W 38 St   6928\n",
       "294                     8 Ave & W 16 St   6906\n",
       "730                  E 40 St & Park Ave   6898\n",
       "1179        Pier 40 - Hudson River Park   6496\n",
       "1427                   W 22 St & 10 Ave   6474\n",
       "13                     10 Ave & W 14 St   6444\n",
       "515              Central Park S & 6 Ave   6425\n",
       "882   Grand Army Plaza & Central Park S   6391\n",
       "1474                   W 54 St & 11 Ave   6349\n",
       "917               Greenwich Ave & 8 Ave   6284\n",
       "298                     8 Ave & W 33 St   6231\n",
       "307                     9 Ave & W 22 St   6184\n",
       "288          7 Ave & Central Park South   6167\n",
       "297                     8 Ave & W 31 St   6135\n",
       "903             Grand St & Elizabeth St   6114\n",
       "486                  Carmine St & 6 Ave   6048"
      ]
     },
     "execution_count": 99,
     "metadata": {},
     "output_type": "execute_result"
    }
   ],
   "source": [
    "stations = df.groupby(['start_station_name'])['start_station_name'].count().reset_index(name='count').sort_values(['count'], ascending=False)\n",
    "temp = stations[(stations['count'] > 6000)]\n",
    "temp"
   ]
  },
  {
   "cell_type": "code",
   "execution_count": 106,
   "id": "fc0f0b08",
   "metadata": {},
   "outputs": [],
   "source": [
    "station1_name = 'Lafayette St & E 8 St'\n",
    "# df['morning'] = (df['started_at'].apply(lambda a:a.time()) < datetime.time(12, 0, 0)) & (df['started_at'].apply(lambda a:a.time()) > datetime.time(7, 0, 0))\n",
    "# df['evening'] = (df['started_at'].apply(lambda a:a.time()) < datetime.time(22, 0, 0)) & (df['started_at'].apply(lambda a:a.time()) > datetime.time(17, 0, 0))\n",
    "df_1_morning_depart = df[(df['start_station_name'] == station1_name) & (df['started_at'].apply(lambda a:a.time()) < datetime.time(12, 0, 0)) & (df['started_at'].apply(lambda a:a.time()) > datetime.time(7, 0, 0))]\n",
    "df_1_morning_arrive = df[(df['end_station_name'] == station1_name) & (df['ended_at'].apply(lambda a:a.time()) < datetime.time(12, 0, 0)) & (df['ended_at'].apply(lambda a:a.time()) > datetime.time(7, 0, 0))]\n",
    "df_1_evening_depart = df[(df['start_station_name'] == station1_name) & (df['started_at'].apply(lambda a:a.time()) < datetime.time(22, 0, 0)) & (df['started_at'].apply(lambda a:a.time()) > datetime.time(17, 0, 0))]\n",
    "df_1_evening_arrive = df[(df['end_station_name'] == station1_name) & (df['ended_at'].apply(lambda a:a.time()) < datetime.time(22, 0, 0)) & (df['ended_at'].apply(lambda a:a.time()) > datetime.time(17, 0, 0))]"
   ]
  },
  {
   "cell_type": "code",
   "execution_count": 111,
   "id": "388f8ae7",
   "metadata": {},
   "outputs": [
    {
     "name": "stdout",
     "output_type": "stream",
     "text": [
      "[[604.  12.   7. ...   0.   0.   0.]\n",
      " [ 10.  20.  14. ...   0.   0.   0.]\n",
      " [  6.  12.  24. ...   0.   0.   0.]\n",
      " ...\n",
      " [  0.   0.   0. ...   0.   2.   5.]\n",
      " [  0.   0.   0. ...   0.   1.   6.]\n",
      " [  0.   0.   0. ...   0.   2. 475.]]\n"
     ]
    }
   ],
   "source": [
    "# discretize morning into blocks of 5 minutes\n",
    "stepsize = datetime.timedelta(minutes=5)\n",
    "# add 19 hours to proceed to the next day\n",
    "next_day = datetime.timedelta(hours=19)\n",
    "# we calculate morning part first\n",
    "# start from July 1st morning\n",
    "checkpoint = datetime.datetime(2022,7,1,7,0)\n",
    "# find capacity = 73 for this station online\n",
    "N1_morning = np.zeros((45,45))\n",
    "# if date of checkpoint is prior to August 1st\n",
    "while checkpoint < datetime.datetime(2022,8,1,0,0):\n",
    "    # records of numbers of bikes\n",
    "    bikes = [0]\n",
    "    # while time of checkpoint is still within the \"morning\" period\n",
    "    while checkpoint.time() < datetime.time(12,0):\n",
    "        arrival_morning = len(df_1_morning_arrive[(df_1_morning_arrive['ended_at'] > checkpoint) & (df_1_morning_arrive['ended_at'] < checkpoint + stepsize)])\n",
    "        departure_morning = len(df_1_morning_depart[(df_1_morning_depart['started_at'] > checkpoint) & (df_1_morning_depart['started_at'] < checkpoint + stepsize)])\n",
    "        bikes.append(bikes[-1] + arrival_morning - departure_morning)\n",
    "        checkpoint += stepsize\n",
    "    checkpoint += next_day\n",
    "    # get rid of negative values\n",
    "    nega = min(bikes)\n",
    "    bikes = [min(x - nega, 44) for x in bikes]\n",
    "    #print(bikes)\n",
    "    # add bike number data to \n",
    "    for i in range(len(bikes)-1):\n",
    "        N1_morning[bikes[i],bikes[i+1]] += 1\n",
    "print(N1_morning)"
   ]
  },
  {
   "cell_type": "code",
   "execution_count": 112,
   "id": "42d4a05f",
   "metadata": {},
   "outputs": [
    {
     "name": "stdout",
     "output_type": "stream",
     "text": [
      "[[0.96178344 0.01910828 0.0111465  ... 0.         0.         0.        ]\n",
      " [0.1754386  0.35087719 0.24561404 ... 0.         0.         0.        ]\n",
      " [0.08695652 0.17391304 0.34782609 ... 0.         0.         0.        ]\n",
      " ...\n",
      " [0.         0.         0.         ... 0.         0.22222222 0.55555556]\n",
      " [0.         0.         0.         ... 0.         0.125      0.75      ]\n",
      " [0.         0.         0.         ... 0.         0.0041841  0.99372385]]\n"
     ]
    }
   ],
   "source": [
    "for i in range(len(N1_morning)):\n",
    "    sum_row = np.sum(N1_morning[i])\n",
    "    if sum_row != 0:\n",
    "        for j in range(len(N1_morning[i])):\n",
    "            N1_morning[i][j] /= sum_row\n",
    "print(N1_morning)"
   ]
  },
  {
   "cell_type": "code",
   "execution_count": 123,
   "id": "82c4ea88",
   "metadata": {},
   "outputs": [
    {
     "name": "stdout",
     "output_type": "stream",
     "text": [
      "[[621.  10.   7. ...   0.   0.   0.]\n",
      " [ 16.  13.   7. ...   0.   0.   0.]\n",
      " [  6.  11.  28. ...   0.   0.   0.]\n",
      " ...\n",
      " [  0.   0.   0. ...   0.   2.   2.]\n",
      " [  0.   0.   0. ...   3.   1.   2.]\n",
      " [  0.   0.   0. ...   3.   6. 149.]]\n"
     ]
    }
   ],
   "source": [
    "# also the evening part\n",
    "# start from July 1st evening (5 pm to 10 pm)\n",
    "checkpoint = datetime.datetime(2022,7,1,17,0)\n",
    "N1_evening = np.zeros((45,45))\n",
    "# if date of checkpoint is prior to August 1st\n",
    "while checkpoint < datetime.datetime(2022,8,1,0,0):\n",
    "    # records of numbers of bikes\n",
    "    bikes = [0]\n",
    "    # while time of checkpoint is still within the \"evening\" period\n",
    "    while checkpoint.time() < datetime.time(22,0):\n",
    "        arrival_evening = len(df_1_evening_arrive[(df_1_evening_arrive['ended_at'] > checkpoint) & (df_1_evening_arrive['ended_at'] < checkpoint + stepsize)])\n",
    "        departure_evening = len(df_1_evening_depart[(df_1_evening_depart['started_at'] > checkpoint) & (df_1_evening_depart['started_at'] < checkpoint + stepsize)])\n",
    "        bikes.append(bikes[-1] + arrival_evening - departure_evening)\n",
    "        checkpoint += stepsize\n",
    "    checkpoint += next_day\n",
    "    # get rid of negative values\n",
    "    nega = min(bikes)\n",
    "    bikes = [min(x - nega,44) for x in bikes]\n",
    "    # add bike number data to \n",
    "    for i in range(len(bikes)-1):\n",
    "        N1_evening[bikes[i],bikes[i+1]] += 1\n",
    "print(N1_evening)"
   ]
  },
  {
   "cell_type": "code",
   "execution_count": 124,
   "id": "9ca0242b",
   "metadata": {},
   "outputs": [
    {
     "name": "stdout",
     "output_type": "stream",
     "text": [
      "[[0.96879875 0.01560062 0.01092044 ... 0.         0.         0.        ]\n",
      " [0.37209302 0.30232558 0.1627907  ... 0.         0.         0.        ]\n",
      " [0.0952381  0.17460317 0.44444444 ... 0.         0.         0.        ]\n",
      " ...\n",
      " [0.         0.         0.         ... 0.         0.28571429 0.28571429]\n",
      " [0.         0.         0.         ... 0.3        0.1        0.2       ]\n",
      " [0.         0.         0.         ... 0.01829268 0.03658537 0.90853659]]\n"
     ]
    }
   ],
   "source": [
    "for i in range(len(N1_evening)):\n",
    "    sum_row = np.sum(N1_evening[i])\n",
    "    if sum_row != 0:\n",
    "        for j in range(len(N1_evening[i])):\n",
    "            N1_evening[i][j] /= sum_row\n",
    "print(N1_evening)"
   ]
  },
  {
   "cell_type": "code",
   "execution_count": 153,
   "id": "284afbed",
   "metadata": {},
   "outputs": [
    {
     "name": "stdout",
     "output_type": "stream",
     "text": [
      "[-3.28085564e-14 -2.27530061e-15 -2.15313226e-15 -1.68921113e-15\n",
      " -1.58456795e-15 -1.08865650e-15 -1.05293431e-15 -7.14231159e-16\n",
      " -8.94820143e-17  3.60779833e-16  3.53581518e-16  2.54912361e-16\n",
      "  3.17096440e-16  4.17648826e-16  1.93742503e-16  1.79082703e-16\n",
      "  1.53747801e-16  2.99942430e-16  2.07660477e-16  1.79717082e-16\n",
      "  2.77349821e-16  3.34152448e-16  2.15025609e-16  3.87065124e-16\n",
      "  8.54220182e-17  6.11093400e-17  1.60654650e-16  8.97095482e-17\n",
      "  1.75274558e-16  1.25736632e-16  1.80641918e-16  9.16360465e-17\n",
      "  2.06205526e-16  2.78260622e-16  5.59404402e-16  5.11081038e-06\n",
      "  4.59972934e-05  3.18087360e-04  8.74719894e-05  1.21462678e-04\n",
      "  4.64585290e-04  3.40177208e-03  1.18503213e-03  5.14718025e-03\n",
      "  9.89223300e-01]\n"
     ]
    }
   ],
   "source": [
    "# N1_morning = N1_morning[:50,:50]\n",
    "S, U = eig(N1_morning.T)\n",
    "stationary1_m = np.array(U[:, np.where(np.abs(S - 1.) < 1e-8)[0][0]].flat)\n",
    "stationary1_m = stationary1_m / np.sum(stationary1_m)\n",
    "print(stationary1_m.real)"
   ]
  },
  {
   "cell_type": "code",
   "execution_count": 154,
   "id": "9c0505aa",
   "metadata": {},
   "outputs": [
    {
     "name": "stdout",
     "output_type": "stream",
     "text": [
      "[ 7.20315672e-01  3.71761169e-02  4.86895809e-02  3.46118237e-02\n",
      "  3.11421977e-02  2.23019410e-02  2.15871165e-02  1.93583922e-02\n",
      "  1.77081157e-02  1.50204277e-02  1.08861744e-02  9.26297208e-03\n",
      "  4.32398808e-03  2.56953672e-03  1.85881733e-03  1.82895347e-03\n",
      "  3.21881500e-04  4.00819307e-04  2.74465430e-04  1.43602372e-04\n",
      "  7.60970524e-05  5.04923704e-05  3.56676037e-05  1.06574196e-05\n",
      "  1.35319095e-05  7.60992297e-06  9.43247505e-06  5.49900010e-06\n",
      "  2.72159142e-06  2.05729210e-06  8.39625080e-07  5.23122323e-07\n",
      "  7.98098449e-07  6.83466913e-07  2.27317392e-07  7.84482204e-08\n",
      "  2.08049104e-07  1.49752653e-07  1.30484366e-07 -0.00000000e+00\n",
      " -0.00000000e+00 -0.00000000e+00 -0.00000000e+00 -0.00000000e+00\n",
      " -0.00000000e+00]\n"
     ]
    }
   ],
   "source": [
    "S, U = eig(N1_evening.T)\n",
    "stationary1_e = np.array(U[:, np.where(np.abs(S - 1.) < 1e-8)[0][0]].flat)\n",
    "stationary1_e = stationary1_e / np.sum(stationary1_e)\n",
    "print(stationary1_e.real)"
   ]
  },
  {
   "cell_type": "markdown",
   "id": "7b0992a0",
   "metadata": {},
   "source": [
    "Station 2"
   ]
  },
  {
   "cell_type": "code",
   "execution_count": 155,
   "id": "597a9528",
   "metadata": {},
   "outputs": [],
   "source": [
    "station2_name = '12 Ave & W 40 St'\n",
    "# df['morning'] = (df['started_at'].apply(lambda a:a.time()) < datetime.time(12, 0, 0)) & (df['started_at'].apply(lambda a:a.time()) > datetime.time(7, 0, 0))\n",
    "# df['evening'] = (df['started_at'].apply(lambda a:a.time()) < datetime.time(22, 0, 0)) & (df['started_at'].apply(lambda a:a.time()) > datetime.time(17, 0, 0))\n",
    "df_2_morning_depart = df[(df['start_station_name'] == station2_name) & (df['started_at'].apply(lambda a:a.time()) < datetime.time(12, 0, 0)) & (df['started_at'].apply(lambda a:a.time()) > datetime.time(7, 0, 0))]\n",
    "df_2_morning_arrive = df[(df['end_station_name'] == station2_name) & (df['ended_at'].apply(lambda a:a.time()) < datetime.time(12, 0, 0)) & (df['ended_at'].apply(lambda a:a.time()) > datetime.time(7, 0, 0))]\n",
    "df_2_evening_depart = df[(df['start_station_name'] == station2_name) & (df['started_at'].apply(lambda a:a.time()) < datetime.time(22, 0, 0)) & (df['started_at'].apply(lambda a:a.time()) > datetime.time(17, 0, 0))]\n",
    "df_2_evening_arrive = df[(df['end_station_name'] == station2_name) & (df['ended_at'].apply(lambda a:a.time()) < datetime.time(22, 0, 0)) & (df['ended_at'].apply(lambda a:a.time()) > datetime.time(17, 0, 0))]"
   ]
  },
  {
   "cell_type": "code",
   "execution_count": 156,
   "id": "6b730d91",
   "metadata": {},
   "outputs": [
    {
     "name": "stdout",
     "output_type": "stream",
     "text": [
      "[[630.  14.  11. ...   0.   0.   0.]\n",
      " [ 10.  37.  17. ...   0.   0.   0.]\n",
      " [ 12.  22.  46. ...   0.   0.   0.]\n",
      " ...\n",
      " [  0.   0.   0. ...   2.   0.   0.]\n",
      " [  0.   0.   0. ...   1.   3.   1.]\n",
      " [  0.   0.   0. ...   0.   1.   0.]]\n"
     ]
    }
   ],
   "source": [
    "# discretize morning into blocks of 5 minutes\n",
    "stepsize = datetime.timedelta(minutes=5)\n",
    "# add 19 hours to proceed to the next day\n",
    "next_day = datetime.timedelta(hours=19)\n",
    "# we calculate morning part first\n",
    "# start from July 1st morning\n",
    "checkpoint = datetime.datetime(2022,7,1,7,0)\n",
    "# find capacity = 73 for this station online\n",
    "N2_morning = np.zeros((46,46))\n",
    "# if date of checkpoint is prior to August 1st\n",
    "while checkpoint < datetime.datetime(2022,8,1,0,0):\n",
    "    # records of numbers of bikes\n",
    "    bikes = [0]\n",
    "    # while time of checkpoint is still within the \"morning\" period\n",
    "    while checkpoint.time() < datetime.time(12,0):\n",
    "        arrival_morning = len(df_2_morning_arrive[(df_2_morning_arrive['ended_at'] > checkpoint) & (df_2_morning_arrive['ended_at'] < checkpoint + stepsize)])\n",
    "        departure_morning = len(df_2_morning_depart[(df_2_morning_depart['started_at'] > checkpoint) & (df_2_morning_depart['started_at'] < checkpoint + stepsize)])\n",
    "        bikes.append(bikes[-1] + arrival_morning - departure_morning)\n",
    "        checkpoint += stepsize\n",
    "    checkpoint += next_day\n",
    "    # get rid of negative values\n",
    "    nega = min(bikes)\n",
    "    bikes = [min(x - nega, 45) for x in bikes]\n",
    "    #print(bikes)\n",
    "    # add bike number data to \n",
    "    for i in range(len(bikes)-1):\n",
    "        N2_morning[bikes[i],bikes[i+1]] += 1\n",
    "print(N2_morning)"
   ]
  },
  {
   "cell_type": "code",
   "execution_count": 157,
   "id": "7a144efe",
   "metadata": {},
   "outputs": [
    {
     "name": "stdout",
     "output_type": "stream",
     "text": [
      "[[0.95454545 0.02121212 0.01666667 ... 0.         0.         0.        ]\n",
      " [0.125      0.4625     0.2125     ... 0.         0.         0.        ]\n",
      " [0.10526316 0.19298246 0.40350877 ... 0.         0.         0.        ]\n",
      " ...\n",
      " [0.         0.         0.         ... 0.4        0.         0.        ]\n",
      " [0.         0.         0.         ... 0.2        0.6        0.2       ]\n",
      " [0.         0.         0.         ... 0.         1.         0.        ]]\n"
     ]
    }
   ],
   "source": [
    "for i in range(len(N2_morning)):\n",
    "    sum_row = np.sum(N2_morning[i])\n",
    "    if sum_row != 0:\n",
    "        for j in range(len(N2_morning[i])):\n",
    "            N2_morning[i][j] /= sum_row\n",
    "print(N2_morning)"
   ]
  },
  {
   "cell_type": "code",
   "execution_count": 158,
   "id": "a83ad36c",
   "metadata": {},
   "outputs": [
    {
     "name": "stdout",
     "output_type": "stream",
     "text": [
      "[[633.   6.   5. ...   0.   0.   0.]\n",
      " [  5.  30.   0. ...   0.   0.   0.]\n",
      " [  3.   1.   7. ...   0.   0.   0.]\n",
      " ...\n",
      " [  0.   0.   0. ...   1.   0.   2.]\n",
      " [  0.   0.   0. ...   0.   0.   0.]\n",
      " [  0.   0.   0. ...   0.   0.  13.]]\n"
     ]
    }
   ],
   "source": [
    "# also the evening part\n",
    "# start from July 1st evening (5 pm to 10 pm)\n",
    "checkpoint = datetime.datetime(2022,7,1,17,0)\n",
    "N2_evening = np.zeros((46,46))\n",
    "# if date of checkpoint is prior to August 1st\n",
    "while checkpoint < datetime.datetime(2022,8,1,0,0):\n",
    "    # records of numbers of bikes\n",
    "    bikes = [0]\n",
    "    # while time of checkpoint is still within the \"evening\" period\n",
    "    while checkpoint.time() < datetime.time(22,0):\n",
    "        arrival_evening = len(df_2_evening_arrive[(df_2_evening_arrive['ended_at'] > checkpoint) & (df_2_evening_arrive['ended_at'] < checkpoint + stepsize)])\n",
    "        departure_evening = len(df_2_evening_depart[(df_2_evening_depart['started_at'] > checkpoint) & (df_2_evening_depart['started_at'] < checkpoint + stepsize)])\n",
    "        bikes.append(bikes[-1] + arrival_evening - departure_evening)\n",
    "        checkpoint += stepsize\n",
    "    checkpoint += next_day\n",
    "    # get rid of negative values\n",
    "    nega = min(bikes)\n",
    "    bikes = [min(x - nega,45) for x in bikes]\n",
    "    # add bike number data to \n",
    "    for i in range(len(bikes)-1):\n",
    "        N2_evening[bikes[i],bikes[i+1]] += 1\n",
    "print(N2_evening)"
   ]
  },
  {
   "cell_type": "code",
   "execution_count": 159,
   "id": "4a1874cf",
   "metadata": {},
   "outputs": [
    {
     "name": "stdout",
     "output_type": "stream",
     "text": [
      "[[0.96788991 0.00917431 0.00764526 ... 0.         0.         0.        ]\n",
      " [0.12195122 0.73170732 0.         ... 0.         0.         0.        ]\n",
      " [0.15789474 0.05263158 0.36842105 ... 0.         0.         0.        ]\n",
      " ...\n",
      " [0.         0.         0.         ... 0.33333333 0.         0.66666667]\n",
      " [0.         0.         0.         ... 0.         0.         0.        ]\n",
      " [0.         0.         0.         ... 0.         0.         0.92857143]]\n"
     ]
    }
   ],
   "source": [
    "for i in range(len(N2_evening)):\n",
    "    sum_row = np.sum(N2_evening[i])\n",
    "    if sum_row != 0:\n",
    "        for j in range(len(N2_evening[i])):\n",
    "            N2_evening[i][j] /= sum_row\n",
    "print(N2_evening)"
   ]
  },
  {
   "cell_type": "code",
   "execution_count": 160,
   "id": "9e7dcdfa",
   "metadata": {},
   "outputs": [
    {
     "name": "stdout",
     "output_type": "stream",
     "text": [
      "[5.27559650e-01 6.59466333e-02 8.85290262e-02 9.23191238e-02\n",
      " 4.63257668e-02 4.79035309e-02 3.10111861e-02 2.89343191e-02\n",
      " 1.63431279e-02 1.24521651e-02 8.40385412e-03 8.60267735e-03\n",
      " 5.33642412e-03 5.44510694e-03 3.80129300e-03 5.64385740e-03\n",
      " 2.12598694e-03 1.18573088e-03 7.37359552e-04 3.99149961e-04\n",
      " 4.64496880e-04 1.43181700e-04 1.97480436e-04 9.42077130e-05\n",
      " 6.49423505e-05 2.26451182e-05 7.07659945e-06 0.00000000e+00\n",
      " 0.00000000e+00 0.00000000e+00 0.00000000e+00 0.00000000e+00\n",
      " 0.00000000e+00 0.00000000e+00 0.00000000e+00 0.00000000e+00\n",
      " 0.00000000e+00 0.00000000e+00 0.00000000e+00 0.00000000e+00\n",
      " 0.00000000e+00 0.00000000e+00 0.00000000e+00 0.00000000e+00\n",
      " 0.00000000e+00 0.00000000e+00]\n"
     ]
    }
   ],
   "source": [
    "S, U = eig(N2_morning.T)\n",
    "stationary2_m = np.array(U[:, np.where(np.abs(S - 1.) < 1e-8)[0][0]].flat)\n",
    "stationary2_m = stationary2_m / np.sum(stationary2_m)\n",
    "print(stationary2_m.real)\n"
   ]
  },
  {
   "cell_type": "code",
   "execution_count": 161,
   "id": "13e01a2d",
   "metadata": {},
   "outputs": [
    {
     "name": "stdout",
     "output_type": "stream",
     "text": [
      "[ 0.06893929  0.00570649  0.00365438  0.00449138  0.00335545  0.00633206\n",
      "  0.00663375  0.0079431   0.01136924  0.01622749  0.01076262  0.01367231\n",
      "  0.02038696  0.03050147  0.02286538  0.02615352  0.03118899  0.03458227\n",
      "  0.03576967  0.03120661  0.0301773   0.03595303  0.03638848  0.05334081\n",
      "  0.03347352  0.03887778  0.03412773  0.0353857   0.02460147  0.0267642\n",
      "  0.02727019  0.03164628  0.04610283  0.03112636  0.0146575   0.01006702\n",
      "  0.00988031  0.01076038  0.0070716   0.00872913  0.00155632  0.00351373\n",
      "  0.00175686  0.00532539 -0.          0.04970364]\n"
     ]
    }
   ],
   "source": [
    "S, U = eig(N2_evening.T)\n",
    "stationary2_e = np.array(U[:, np.where(np.abs(S - 1.) < 1e-8)[0][0]].flat)\n",
    "stationary2_e = stationary2_e / np.sum(stationary2_e)\n",
    "print(stationary2_e.real)"
   ]
  },
  {
   "cell_type": "code",
   "execution_count": null,
   "id": "08ef1089",
   "metadata": {},
   "outputs": [],
   "source": []
  }
 ],
 "metadata": {
  "kernelspec": {
   "display_name": "Python 3 (ipykernel)",
   "language": "python",
   "name": "python3"
  },
  "language_info": {
   "codemirror_mode": {
    "name": "ipython",
    "version": 3
   },
   "file_extension": ".py",
   "mimetype": "text/x-python",
   "name": "python",
   "nbconvert_exporter": "python",
   "pygments_lexer": "ipython3",
   "version": "3.10.2"
  },
  "vscode": {
   "interpreter": {
    "hash": "02b7797612f2a04a8f3a1ff96926c1fc037ce11818efad4da1ea2916213c0b99"
   }
  }
 },
 "nbformat": 4,
 "nbformat_minor": 5
}
