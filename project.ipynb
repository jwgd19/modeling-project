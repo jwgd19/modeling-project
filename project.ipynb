{
 "cells": [
  {
   "cell_type": "code",
   "execution_count": 1,
   "id": "d78a07c2",
   "metadata": {},
   "outputs": [],
   "source": [
    "import numpy as np\n",
    "import numpy.core.multiarray\n",
    "from scipy import misc\n",
    "from matplotlib import pylab as plt\n",
    "#import matplotlib.cm as cm\n",
    "import pandas as pd\n",
    "from datetime import datetime, date"
   ]
  },
  {
   "cell_type": "code",
   "execution_count": 2,
   "id": "39569204",
   "metadata": {},
   "outputs": [
    {
     "name": "stderr",
     "output_type": "stream",
     "text": [
      "C:\\Users\\jwgd1\\AppData\\Local\\Temp\\ipykernel_22968\\3516038589.py:1: DtypeWarning: Columns (5,7) have mixed types. Specify dtype option on import or set low_memory=False.\n",
      "  df_original = pd.read_csv('202207-citbike-tripdata.csv')\n"
     ]
    }
   ],
   "source": [
    "df_original = pd.read_csv('202207-citbike-tripdata.csv')"
   ]
  },
  {
   "cell_type": "code",
   "execution_count": 4,
   "id": "ec927cf8",
   "metadata": {},
   "outputs": [],
   "source": [
    "df = df_original.copy()"
   ]
  },
  {
   "cell_type": "code",
   "execution_count": 5,
   "id": "50f1c8a2",
   "metadata": {
    "scrolled": true
   },
   "outputs": [
    {
     "data": {
      "text/html": [
       "<div>\n",
       "<style scoped>\n",
       "    .dataframe tbody tr th:only-of-type {\n",
       "        vertical-align: middle;\n",
       "    }\n",
       "\n",
       "    .dataframe tbody tr th {\n",
       "        vertical-align: top;\n",
       "    }\n",
       "\n",
       "    .dataframe thead th {\n",
       "        text-align: right;\n",
       "    }\n",
       "</style>\n",
       "<table border=\"1\" class=\"dataframe\">\n",
       "  <thead>\n",
       "    <tr style=\"text-align: right;\">\n",
       "      <th></th>\n",
       "      <th>ride_id</th>\n",
       "      <th>rideable_type</th>\n",
       "      <th>started_at</th>\n",
       "      <th>ended_at</th>\n",
       "      <th>start_station_name</th>\n",
       "      <th>start_station_id</th>\n",
       "      <th>end_station_name</th>\n",
       "      <th>end_station_id</th>\n",
       "      <th>start_lat</th>\n",
       "      <th>start_lng</th>\n",
       "      <th>end_lat</th>\n",
       "      <th>end_lng</th>\n",
       "      <th>member_casual</th>\n",
       "    </tr>\n",
       "  </thead>\n",
       "  <tbody>\n",
       "    <tr>\n",
       "      <th>0</th>\n",
       "      <td>C09E4093905089BD</td>\n",
       "      <td>classic_bike</td>\n",
       "      <td>2022-07-23 11:34:57</td>\n",
       "      <td>2022-07-23 11:45:08</td>\n",
       "      <td>Melrose St &amp; Broadway</td>\n",
       "      <td>4801.04</td>\n",
       "      <td>Myrtle Ave &amp; Grove St</td>\n",
       "      <td>4816.05</td>\n",
       "      <td>40.697481</td>\n",
       "      <td>-73.935877</td>\n",
       "      <td>40.699050</td>\n",
       "      <td>-73.915160</td>\n",
       "      <td>member</td>\n",
       "    </tr>\n",
       "    <tr>\n",
       "      <th>1</th>\n",
       "      <td>374630DB5822C392</td>\n",
       "      <td>electric_bike</td>\n",
       "      <td>2022-07-29 18:19:08</td>\n",
       "      <td>2022-07-29 18:26:50</td>\n",
       "      <td>E 68 St &amp; 3 Ave</td>\n",
       "      <td>6896.16</td>\n",
       "      <td>E 85 St &amp; York Ave</td>\n",
       "      <td>7146.04</td>\n",
       "      <td>40.767128</td>\n",
       "      <td>-73.962246</td>\n",
       "      <td>40.775369</td>\n",
       "      <td>-73.948034</td>\n",
       "      <td>member</td>\n",
       "    </tr>\n",
       "    <tr>\n",
       "      <th>2</th>\n",
       "      <td>4F73CA25880A1215</td>\n",
       "      <td>electric_bike</td>\n",
       "      <td>2022-07-16 16:30:58</td>\n",
       "      <td>2022-07-16 17:39:18</td>\n",
       "      <td>W 37 St &amp; 10 Ave</td>\n",
       "      <td>6611.02</td>\n",
       "      <td>Knickerbocker Ave &amp; Cooper St</td>\n",
       "      <td>4582.05</td>\n",
       "      <td>40.756604</td>\n",
       "      <td>-73.997901</td>\n",
       "      <td>40.690810</td>\n",
       "      <td>-73.904480</td>\n",
       "      <td>member</td>\n",
       "    </tr>\n",
       "    <tr>\n",
       "      <th>3</th>\n",
       "      <td>ECD6EE19C0CC1D31</td>\n",
       "      <td>electric_bike</td>\n",
       "      <td>2022-07-17 17:35:57</td>\n",
       "      <td>2022-07-17 18:03:36</td>\n",
       "      <td>W 37 St &amp; 10 Ave</td>\n",
       "      <td>6611.02</td>\n",
       "      <td>6 Ave &amp; Broome St</td>\n",
       "      <td>5610.09</td>\n",
       "      <td>40.756604</td>\n",
       "      <td>-73.997901</td>\n",
       "      <td>40.724310</td>\n",
       "      <td>-74.004730</td>\n",
       "      <td>member</td>\n",
       "    </tr>\n",
       "    <tr>\n",
       "      <th>4</th>\n",
       "      <td>44D0987673B9997D</td>\n",
       "      <td>classic_bike</td>\n",
       "      <td>2022-07-11 07:56:29</td>\n",
       "      <td>2022-07-11 07:59:15</td>\n",
       "      <td>E 68 St &amp; 3 Ave</td>\n",
       "      <td>6896.16</td>\n",
       "      <td>E 66 St &amp; Madison Ave</td>\n",
       "      <td>6969.08</td>\n",
       "      <td>40.767128</td>\n",
       "      <td>-73.962246</td>\n",
       "      <td>40.768009</td>\n",
       "      <td>-73.968453</td>\n",
       "      <td>member</td>\n",
       "    </tr>\n",
       "  </tbody>\n",
       "</table>\n",
       "</div>"
      ],
      "text/plain": [
       "            ride_id  rideable_type           started_at             ended_at  \\\n",
       "0  C09E4093905089BD   classic_bike  2022-07-23 11:34:57  2022-07-23 11:45:08   \n",
       "1  374630DB5822C392  electric_bike  2022-07-29 18:19:08  2022-07-29 18:26:50   \n",
       "2  4F73CA25880A1215  electric_bike  2022-07-16 16:30:58  2022-07-16 17:39:18   \n",
       "3  ECD6EE19C0CC1D31  electric_bike  2022-07-17 17:35:57  2022-07-17 18:03:36   \n",
       "4  44D0987673B9997D   classic_bike  2022-07-11 07:56:29  2022-07-11 07:59:15   \n",
       "\n",
       "      start_station_name start_station_id               end_station_name  \\\n",
       "0  Melrose St & Broadway          4801.04          Myrtle Ave & Grove St   \n",
       "1        E 68 St & 3 Ave          6896.16             E 85 St & York Ave   \n",
       "2       W 37 St & 10 Ave          6611.02  Knickerbocker Ave & Cooper St   \n",
       "3       W 37 St & 10 Ave          6611.02              6 Ave & Broome St   \n",
       "4        E 68 St & 3 Ave          6896.16          E 66 St & Madison Ave   \n",
       "\n",
       "  end_station_id  start_lat  start_lng    end_lat    end_lng member_casual  \n",
       "0        4816.05  40.697481 -73.935877  40.699050 -73.915160        member  \n",
       "1        7146.04  40.767128 -73.962246  40.775369 -73.948034        member  \n",
       "2        4582.05  40.756604 -73.997901  40.690810 -73.904480        member  \n",
       "3        5610.09  40.756604 -73.997901  40.724310 -74.004730        member  \n",
       "4        6969.08  40.767128 -73.962246  40.768009 -73.968453        member  "
      ]
     },
     "execution_count": 5,
     "metadata": {},
     "output_type": "execute_result"
    }
   ],
   "source": [
    "df.head()"
   ]
  },
  {
   "cell_type": "markdown",
   "id": "bff95c1e",
   "metadata": {},
   "source": [
    "### Warm-up\n",
    "\n",
    "#### 1. Using the start time and end time, compute the duration of each ride in minutes and plot the histogram of ride durations.\n"
   ]
  },
  {
   "cell_type": "code",
   "execution_count": 14,
   "id": "82cfd140",
   "metadata": {},
   "outputs": [],
   "source": [
    "df = df_original.copy()\n",
    "df['duration'] = (pd.to_datetime(df['ended_at']) - pd.to_datetime(df['started_at'])).apply(lambda x: x.value) / 10**9\n",
    "df = df[(df['duration'] > 0) & (df['duration'] < 3600*3)]\n",
    "#print(df['duration'])"
   ]
  },
  {
   "cell_type": "code",
   "execution_count": 15,
   "id": "2504019e",
   "metadata": {},
   "outputs": [
    {
     "data": {
      "text/plain": [
       "(array([2.537686e+06, 6.939260e+05, 1.642440e+05, 4.775000e+04,\n",
       "        1.867000e+04, 9.248000e+03, 5.408000e+03, 3.299000e+03,\n",
       "        2.189000e+03, 1.416000e+03]),\n",
       " array([1.0000e+00, 1.0808e+03, 2.1606e+03, 3.2404e+03, 4.3202e+03,\n",
       "        5.4000e+03, 6.4798e+03, 7.5596e+03, 8.6394e+03, 9.7192e+03,\n",
       "        1.0799e+04]),\n",
       " <BarContainer object of 10 artists>)"
      ]
     },
     "execution_count": 15,
     "metadata": {},
     "output_type": "execute_result"
    },
    {
     "data": {
      "image/png": "[encoded data removed]",
      "text/plain": [
       "<Figure size 640x480 with 1 Axes>"
      ]
     },
     "metadata": {},
     "output_type": "display_data"
    }
   ],
   "source": [
    "# durations = []\n",
    "# format_data = \"%Y-%m-%d %H:%M:%S\"\n",
    "# for index, row in df.iterrows():\n",
    "#     duration = (datetime.strptime(df.iloc[index,3], format_data) - datetime.strptime(df.iloc[index,2], format_data)).total_seconds()\n",
    "#     if duration > 3600 * 3 or duration < 0:\n",
    "#         df.drop(index, inplace=True)\n",
    "#     else:\n",
    "#         durations.append(duration)\n",
    "#     if index % 10000 == 0:\n",
    "#         print('Working on', index)\n",
    "plt.hist(df['duration'])"
   ]
  },
  {
   "cell_type": "code",
   "execution_count": null,
   "id": "27453d41",
   "metadata": {},
   "outputs": [],
   "source": []
  }
 ],
 "metadata": {
  "kernelspec": {
   "display_name": "Python 3.10.2 64-bit",
   "language": "python",
   "name": "python3"
  },
  "language_info": {
   "codemirror_mode": {
    "name": "ipython",
    "version": 3
   },
   "file_extension": ".py",
   "mimetype": "text/x-python",
   "name": "python",
   "nbconvert_exporter": "python",
   "pygments_lexer": "ipython3",
   "version": "3.10.2"
  },
  "vscode": {
   "interpreter": {
    "hash": "02b7797612f2a04a8f3a1ff96926c1fc037ce11818efad4da1ea2916213c0b99"
   }
  }
 },
 "nbformat": 4,
 "nbformat_minor": 5
}
